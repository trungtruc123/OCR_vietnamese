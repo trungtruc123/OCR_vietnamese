{
 "cells": [
  {
   "cell_type": "code",
   "execution_count": 1,
   "metadata": {},
   "outputs": [
    {
     "name": "stderr",
     "output_type": "stream",
     "text": [
      "usage: ipykernel_launcher.py [-h] [--model MODEL] [--data DATA]\n",
      "                             [--device DEVICE]\n",
      "ipykernel_launcher.py: error: unrecognized arguments: -f C:\\Users\\PC\\AppData\\Roaming\\jupyter\\runtime\\kernel-6f71bbab-ff89-4db5-a5b7-1f749bcd59aa.json\n"
     ]
    },
    {
     "ename": "SystemExit",
     "evalue": "2",
     "output_type": "error",
     "traceback": [
      "An exception has occurred, use %tb to see the full traceback.\n",
      "\u001b[1;31mSystemExit\u001b[0m\u001b[1;31m:\u001b[0m 2\n"
     ]
    },
    {
     "name": "stderr",
     "output_type": "stream",
     "text": [
      "C:\\ProgramData\\Anaconda3\\lib\\site-packages\\IPython\\core\\interactiveshell.py:3275: UserWarning: To exit: use 'exit', 'quit', or Ctrl-D.\n",
      "  warn(\"To exit: use 'exit', 'quit', or Ctrl-D.\", stacklevel=1)\n"
     ]
    }
   ],
   "source": [
    "import os\n",
    "import tensorflow as tf\n",
    "from crnn import get_model\n",
    "from loader import SIZE, MAX_LEN, TextImageGenerator, decode_batch\n",
    "from keras import backend as K\n",
    "import glob                                                                 \n",
    "import argparse\n",
    "\n",
    "\n",
    "def loadmodel(weight_path):\n",
    "    model = get_model((*SIZE, 3), training=False, finetune=0)\n",
    "    model.load_weights(weight_path)\n",
    "    return model\n",
    "\n",
    "def predict(model, datapath):\n",
    "    sess = tf.Session()\n",
    "    K.set_session(sess)\n",
    "\n",
    "    batch_size = 3\n",
    "    models = glob.glob('{}/best_*.h5'.format(model))\n",
    "    test_generator  = TextImageGenerator(datapath, None, *SIZE, batch_size, 32, None, False, MAX_LEN)\n",
    "    test_generator.build_data()\n",
    "\n",
    "    for weight_path in models:\n",
    "        \n",
    "        print('load {}'.format(weight_path))\n",
    "        model = loadmodel(weight_path)\n",
    "        X_test = test_generator.imgs.transpose((0, 2, 1, 3))\n",
    "        y_pred = model.predict(X_test, batch_size=3)\n",
    "        decoded_res = decode_batch(y_pred)\n",
    "        for i in range(len(test_generator.img_dir)):\n",
    "            print('{}: {}'.format(test_generator.img_dir[test_generator.indexes[i]], decoded_res[i]))\n",
    "\n",
    "if __name__=='__main__':\n",
    "    parser = argparse.ArgumentParser()\n",
    "    parser.add_argument(\"--model\", default='../data/ocr/model/', type=str)\n",
    "    parser.add_argument('--data', default='../data/ocr/preprocess/test/', type=str)\n",
    "    parser.add_argument('--device', default=2, type=int)\n",
    "    args = parser.parse_args()\n",
    "    \n",
    "    \n",
    "    os.environ[\"CUDA_VISIBLE_DEVICES\"]=str(args.device)\n",
    "\n",
    "    predict(args.model, args.data)"
   ]
  }
 ],
 "metadata": {
  "kernelspec": {
   "display_name": "Python 3",
   "language": "python",
   "name": "python3"
  },
  "language_info": {
   "codemirror_mode": {
    "name": "ipython",
    "version": 3
   },
   "file_extension": ".py",
   "mimetype": "text/x-python",
   "name": "python",
   "nbconvert_exporter": "python",
   "pygments_lexer": "ipython3",
   "version": "3.7.1"
  }
 },
 "nbformat": 4,
 "nbformat_minor": 2
}
